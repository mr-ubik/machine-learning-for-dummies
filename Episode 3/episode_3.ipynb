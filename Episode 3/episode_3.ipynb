{
 "cells": [
  {
   "cell_type": "markdown",
   "metadata": {
    "slideshow": {
     "slide_type": "slide"
    }
   },
   "source": [
    "# Machine Learning - Episode 3: Return of the Tensor \n",
    "\n",
    "![cover](img/cover.png)"
   ]
  },
  {
   "cell_type": "markdown",
   "metadata": {
    "slideshow": {
     "slide_type": "subslide"
    }
   },
   "source": [
    "## Contents\n",
    "\n",
    "### Machine Learning, beyond the hype\n",
    "\n",
    "0. What is Machine Learning?\n",
    "1. Why Use Machine Learning?\n",
    "2. Types of Machine Learning\n",
    "3. Supervised Learning\n",
    "4. Unsupervised Learning\n",
    "5. Semi-Supervised Learning\n",
    "6. Reinforcement Learning\n",
    "7. Machine Learning Challenges"
   ]
  },
  {
   "cell_type": "markdown",
   "metadata": {
    "slideshow": {
     "slide_type": "subslide"
    }
   },
   "source": [
    "![](img/google_io.jpeg)"
   ]
  },
  {
   "cell_type": "markdown",
   "metadata": {
    "slideshow": {
     "slide_type": "subslide"
    }
   },
   "source": [
    "## What is Machine Learning?\n",
    "\n",
    "Machine Learning is the science (and art) of programming computers so they can learn from data.\n",
    "\n",
    ">Machine Learning is the field of study that gives computers the ability to learn without being\n",
    "explicitly programmed.\n",
    "Arthur Samuel, 1959\n",
    "\n",
    "\n",
    ">A computer program is said to learn from experience E with respect to some task T and some\n",
    "performance measure P, if its performance on T, as measured by P, improves with experience E.\n",
    "Tom Mitchell, 1997\n"
   ]
  },
  {
   "cell_type": "markdown",
   "metadata": {
    "slideshow": {
     "slide_type": "subslide"
    }
   },
   "source": [
    "### Or more likely...\n",
    "\n",
    "![machine_learning_xkcd](img/ml_xkcd.png)"
   ]
  },
  {
   "cell_type": "markdown",
   "metadata": {
    "slideshow": {
     "slide_type": "subslide"
    }
   },
   "source": [
    "## Why Use Machine Learning?\n",
    "\n",
    "![machine_learning_everywhere](img/ml_everywhere.jpg)"
   ]
  },
  {
   "cell_type": "markdown",
   "metadata": {
    "slideshow": {
     "slide_type": "subslide"
    }
   },
   "source": [
    "- Problems for which you would end up writing long and complicated lists of hand-tuned rules. ML here can save time, sanity and often offers better performance.\n",
    "- Complex problems with no efficient traditional algorithmic solutions. ML can often find a solution to these problems.\n",
    "- Everchanging environments: ML solutions are capable of being resilient and adaptable to a certain amount of change.\n",
    "- Extracting insights from a significant amount of data."
   ]
  },
  {
   "cell_type": "markdown",
   "metadata": {
    "slideshow": {
     "slide_type": "subslide"
    }
   },
   "source": [
    "## Types of Machine Learning Systems"
   ]
  },
  {
   "cell_type": "markdown",
   "metadata": {
    "slideshow": {
     "slide_type": "subslide"
    }
   },
   "source": [
    "There are so many different types of Machine Learning systems that it is useful to classify them in broad\n",
    "categories based on:\n",
    "- Whether or not they are trained with human supervision (supervised, unsupervised, semi-supervised, and Reinforcement Learning)\n",
    "- Whether or not they can learn incrementally on the fly (online versus batch learning)\n",
    "- Whether they work by merely comparing new data points to known data points, or instead detect patterns in the training data and build a predictive model, much like scientists, do (instance-based versus model-based learning)"
   ]
  },
  {
   "cell_type": "markdown",
   "metadata": {
    "slideshow": {
     "slide_type": "subslide"
    }
   },
   "source": [
    "### Supervised Learning\n",
    "\n",
    "In supervised learning, the training data you feed to the algorithm includes the desired solutions, called labels.\n",
    "\n",
    "![machine_learning_everywhere](img/supervised_spam_mail.png)"
   ]
  },
  {
   "cell_type": "markdown",
   "metadata": {
    "slideshow": {
     "slide_type": "subslide"
    }
   },
   "source": [
    "#### Classification\n",
    "\n",
    "Machine Learning on the wall, can you tell me if this email is spam given that I have fed you examples of both spam and not spam emails?\n",
    "\n",
    "#### Prediction\n",
    "\n",
    "Predict the price (numerical target) of a home given a set of features. Predictions are also known as regressions. \n",
    "\n",
    "#### Some Supervised Machine Learning Algorithms ...\n",
    "\n",
    "- k-Nearest Neighbors\n",
    "- Linear Regression\n",
    "- Logistic Regression\n",
    "- Support Vector Machines (SVMs)\n",
    "- Decision Trees and Random Forests\n",
    "- Neural networks\n",
    "- Gradient Boost\n"
   ]
  },
  {
   "cell_type": "markdown",
   "metadata": {
    "slideshow": {
     "slide_type": "subslide"
    }
   },
   "source": [
    "### Unsupervised Learning\n",
    "\n",
    "In unsupervised learning, as you might guess, the training data is unlabeled. The system tries\n",
    "to learn without a teacher.\n",
    "\n",
    "![machine_learning_everywhere](img/.)"
   ]
  },
  {
   "cell_type": "markdown",
   "metadata": {
    "slideshow": {
     "slide_type": "subslide"
    }
   },
   "source": [
    "- Clustering\n",
    "    - k-Means\n",
    "    - Hierarchical Cluster Analysis (HCA)\n",
    "    - Expectation Maximization\n",
    "- Visualization and dimensionality reduction\n",
    "    - Principal Component Analysis (PCA)\n",
    "    - Kernel PCA\n",
    "    - Locally-Linear Embedding (LLE)\n",
    "    - t-distributed Stochastic Neighbor Embedding (t-SNE)\n",
    "- Association rule learning\n",
    "    - Apriori\n",
    "    - Eclat"
   ]
  },
  {
   "cell_type": "markdown",
   "metadata": {
    "slideshow": {
     "slide_type": "subslide"
    }
   },
   "source": [
    "### Semisupervised learning\n",
    "\n",
    "Some algorithms can deal with partially labeled training data, usually a lot of unlabeled data and a little\n",
    "bit of labeled data. This is called semisupervised learning.\n",
    "\n",
    "Most semisupervised learning algorithms are combinations of unsupervised and supervised algorithms."
   ]
  },
  {
   "cell_type": "markdown",
   "metadata": {
    "slideshow": {
     "slide_type": "subslide"
    }
   },
   "source": [
    "### Reinforcement Learning\n",
    "\n",
    "Reinforcement Learning is a very different beast. The learning system, called an agent in this context, can observe the environment, select and perform actions, and get rewards in return. It must then learn by itself what is the best strategy, called a policy, to get the most reward over time. A policy defines what action the agent should choose when it is in a given situation."
   ]
  },
  {
   "cell_type": "markdown",
   "metadata": {
    "slideshow": {
     "slide_type": "subslide"
    }
   },
   "source": [
    "### Batch and Online Learning\n",
    "Another criterion used to classify Machine Learning systems is whether or not the system can learn incrementally from a stream of incoming data.\n",
    "\n",
    "#### Batch Learning\n",
    "\n",
    "We train the model with a large, finite dataset, our data while probably large is not a continuous stream.\n",
    "\n",
    "#### Online Learning\n",
    "In online learning, you train the system incrementally by feeding it data instances sequentially, either\n",
    "individually or by small groups called mini-batches. Each learning step is fast and cheap, so the system\n",
    "can learn about new data on the fly, as it arrives."
   ]
  },
  {
   "cell_type": "markdown",
   "metadata": {
    "slideshow": {
     "slide_type": "subslide"
    }
   },
   "source": [
    "## Beyond the Hype: Machine Learning's challenges and limitations\n",
    "\n",
    "![](img/ml3_results.png)"
   ]
  },
  {
   "cell_type": "markdown",
   "metadata": {
    "slideshow": {
     "slide_type": "subslide"
    }
   },
   "source": [
    "### Data, the King of bad predictions\n",
    "\n",
    "![vader](img/ml3_Lack-of-Data.gif)"
   ]
  },
  {
   "cell_type": "markdown",
   "metadata": {
    "slideshow": {
     "slide_type": "subslide"
    }
   },
   "source": [
    "99.99% of Machine Learning problems can be boiled down to either a data related issues or one specific to our choice of models and (hyper)parameters configurations, of this percentage probably 80% can be attributed to the data.\n",
    "\n",
    ">A Data_* spends 80% of his time collecting, refining and polishing data, 20% on actual analysis.\n",
    ">\n",
    ">For a Data Engineer this is probably 127% of his time.\n",
    "\n",
    "If you learn anything from this guide etch this in your mind:\n",
    "\n",
    "> A simple model with clean and abundant Data will **ALWAYS** outperform a more clever model."
   ]
  },
  {
   "cell_type": "markdown",
   "metadata": {
    "slideshow": {
     "slide_type": "subslide"
    }
   },
   "source": [
    "In order for your system to be successfull your data needs to be:\n",
    "\n",
    "- Abundant\n",
    "- Clean\n",
    "- Representative\n",
    "- Relevant Features"
   ]
  },
  {
   "cell_type": "markdown",
   "metadata": {},
   "source": [
    "##  [... Continue to the Deep Learning Introduction with Tensorflow by Paleo Galeone ...](https://talks.pgaleone.eu/Deep%20Learning%20with%20Tensorflow:%20an%20introduction/tf.slide#1)"
   ]
  }
 ],
 "metadata": {
  "kernelspec": {
   "display_name": "Python 3",
   "language": "python",
   "name": "python3"
  },
  "language_info": {
   "codemirror_mode": {
    "name": "ipython",
    "version": 3
   },
   "file_extension": ".py",
   "mimetype": "text/x-python",
   "name": "python",
   "nbconvert_exporter": "python",
   "pygments_lexer": "ipython3",
   "version": "3.6.5"
  }
 },
 "nbformat": 4,
 "nbformat_minor": 2
}
